{
 "cells": [
  {
   "cell_type": "markdown",
   "metadata": {},
   "source": [
    "## 実験方法についてメモ"
   ]
  },
  {
   "cell_type": "code",
   "execution_count": 1,
   "metadata": {},
   "outputs": [],
   "source": [
    "import os\n",
    "import seaborn as sns\n",
    "import sys\n",
    "import pandas as pd\n",
    "from hydra import compose, initialize\n",
    "from omegaconf import DictConfig, ListConfig, OmegaConf\n",
    "from sklearn.model_selection import train_test_split\n",
    "from sklearn.metrics import r2_score\n",
    "import mlflow\n",
    "from pathlib import Path\n",
    "\n",
    "import matplotlib.pyplot as plt\n",
    "\n",
    "# モデルのモジュールのインポート\n",
    "sys.path.append('../../')\n",
    "sys.dont_write_bytecode = True\n",
    "from src.train.lightGBM.model import Model\n",
    "from src.base.MlflowClass import Environments"
   ]
  },
  {
   "cell_type": "markdown",
   "metadata": {},
   "source": [
    "## 設定ファイルの読み込み\n",
    "\n",
    "モデルの学習パラメータなどをyamlファイルから読み取り"
   ]
  },
  {
   "cell_type": "code",
   "execution_count": 2,
   "metadata": {},
   "outputs": [],
   "source": [
    "# モデルの設定ファイルの読み込み\n",
    "with initialize(version_base=None,config_path='../../config', job_name=\"test\"):\n",
    "    # dictinary形式での出力\n",
    "    cfg = compose(config_name=\"train\")"
   ]
  },
  {
   "cell_type": "markdown",
   "metadata": {},
   "source": [
    "## データの読み込み"
   ]
  },
  {
   "cell_type": "code",
   "execution_count": 3,
   "metadata": {},
   "outputs": [],
   "source": [
    "# データの抽出\n",
    "df = sns.load_dataset('titanic')\n",
    "\n",
    "# 説明変数の指定\n",
    "X = pd.get_dummies(\n",
    "    df.loc[:, (df.columns!='survived') & (df.columns!='alive')], \n",
    "    drop_first=True\n",
    "    )\n",
    "y = df['survived']"
   ]
  },
  {
   "cell_type": "markdown",
   "metadata": {},
   "source": [
    "## 実験の開始\n",
    "\n",
    "実験用のインスタンスの作成"
   ]
  },
  {
   "cell_type": "code",
   "execution_count": 4,
   "metadata": {},
   "outputs": [],
   "source": [
    "experiment = Environments(\n",
    "    DB_DIR_PATH=\"../../data/outputs\"\n",
    "    )"
   ]
  },
  {
   "cell_type": "code",
   "execution_count": 5,
   "metadata": {},
   "outputs": [
    {
     "name": "stdout",
     "output_type": "stream",
     "text": [
      "New experiment started\n",
      "Name: COMMON\n",
      "Experiment_id: 0\n",
      "Artifact Location: ../../data/outputs/0\n"
     ]
    }
   ],
   "source": [
    "# 実験の開始\n",
    "experiment.start_experiment(EXPERIMENT_NAME=\"COMMON\")"
   ]
  },
  {
   "cell_type": "markdown",
   "metadata": {},
   "source": [
    "## 実験管理"
   ]
  },
  {
   "cell_type": "code",
   "execution_count": 7,
   "metadata": {},
   "outputs": [],
   "source": [
    "# 実験パラメータの記録\n",
    "experiment.log_params_from_omegaconf_dict(cfg)"
   ]
  },
  {
   "cell_type": "code",
   "execution_count": 8,
   "metadata": {},
   "outputs": [
    {
     "name": "stdout",
     "output_type": "stream",
     "text": [
      "[1]\tvalid_0's rmse: 0.471899\n",
      "[2]\tvalid_0's rmse: 0.456243\n",
      "[3]\tvalid_0's rmse: 0.440677\n",
      "[4]\tvalid_0's rmse: 0.428942\n",
      "[5]\tvalid_0's rmse: 0.418356\n",
      "[6]\tvalid_0's rmse: 0.410635\n",
      "[7]\tvalid_0's rmse: 0.404415\n",
      "[8]\tvalid_0's rmse: 0.399041\n",
      "[9]\tvalid_0's rmse: 0.395104\n",
      "[10]\tvalid_0's rmse: 0.391628\n",
      "[11]\tvalid_0's rmse: 0.389041\n",
      "[12]\tvalid_0's rmse: 0.386283\n",
      "[13]\tvalid_0's rmse: 0.383856\n",
      "[14]\tvalid_0's rmse: 0.382555\n",
      "[15]\tvalid_0's rmse: 0.381615\n",
      "[16]\tvalid_0's rmse: 0.38032\n",
      "[17]\tvalid_0's rmse: 0.379248\n",
      "[18]\tvalid_0's rmse: 0.379316\n",
      "[19]\tvalid_0's rmse: 0.378649\n",
      "[20]\tvalid_0's rmse: 0.377643\n",
      "[21]\tvalid_0's rmse: 0.37709\n",
      "[22]\tvalid_0's rmse: 0.376842\n",
      "[23]\tvalid_0's rmse: 0.376426\n",
      "[24]\tvalid_0's rmse: 0.376102\n",
      "[25]\tvalid_0's rmse: 0.376378\n",
      "[26]\tvalid_0's rmse: 0.376282\n",
      "[27]\tvalid_0's rmse: 0.376182\n",
      "[28]\tvalid_0's rmse: 0.376353\n",
      "[29]\tvalid_0's rmse: 0.376215\n",
      "[30]\tvalid_0's rmse: 0.375964\n",
      "[31]\tvalid_0's rmse: 0.375726\n",
      "[32]\tvalid_0's rmse: 0.375191\n",
      "[33]\tvalid_0's rmse: 0.37519\n",
      "[34]\tvalid_0's rmse: 0.374819\n",
      "[35]\tvalid_0's rmse: 0.374212\n",
      "[36]\tvalid_0's rmse: 0.37416\n",
      "[37]\tvalid_0's rmse: 0.374052\n",
      "[38]\tvalid_0's rmse: 0.374053\n",
      "[39]\tvalid_0's rmse: 0.374545\n",
      "[40]\tvalid_0's rmse: 0.374355\n",
      "[41]\tvalid_0's rmse: 0.374036\n",
      "[42]\tvalid_0's rmse: 0.374035\n",
      "[43]\tvalid_0's rmse: 0.374023\n",
      "[44]\tvalid_0's rmse: 0.374059\n",
      "[45]\tvalid_0's rmse: 0.374424\n",
      "[46]\tvalid_0's rmse: 0.374916\n",
      "[47]\tvalid_0's rmse: 0.375064\n",
      "[48]\tvalid_0's rmse: 0.375002\n",
      "[49]\tvalid_0's rmse: 0.375111\n",
      "[50]\tvalid_0's rmse: 0.374971\n",
      "[51]\tvalid_0's rmse: 0.375414\n",
      "[52]\tvalid_0's rmse: 0.375803\n",
      "[53]\tvalid_0's rmse: 0.375962\n",
      "[54]\tvalid_0's rmse: 0.375814\n",
      "[55]\tvalid_0's rmse: 0.375813\n",
      "[56]\tvalid_0's rmse: 0.376025\n",
      "[57]\tvalid_0's rmse: 0.376313\n",
      "[58]\tvalid_0's rmse: 0.376055\n",
      "[59]\tvalid_0's rmse: 0.375783\n",
      "[60]\tvalid_0's rmse: 0.375791\n",
      "[61]\tvalid_0's rmse: 0.375828\n",
      "[62]\tvalid_0's rmse: 0.37533\n",
      "[63]\tvalid_0's rmse: 0.375462\n",
      "[64]\tvalid_0's rmse: 0.375521\n",
      "[65]\tvalid_0's rmse: 0.375299\n",
      "[66]\tvalid_0's rmse: 0.375038\n",
      "[67]\tvalid_0's rmse: 0.375043\n",
      "[68]\tvalid_0's rmse: 0.375481\n",
      "[69]\tvalid_0's rmse: 0.375719\n",
      "[70]\tvalid_0's rmse: 0.376134\n",
      "[71]\tvalid_0's rmse: 0.376247\n",
      "[72]\tvalid_0's rmse: 0.376615\n",
      "[73]\tvalid_0's rmse: 0.376727\n",
      "[74]\tvalid_0's rmse: 0.376724\n",
      "[75]\tvalid_0's rmse: 0.377063\n",
      "[76]\tvalid_0's rmse: 0.377256\n",
      "[77]\tvalid_0's rmse: 0.377251\n",
      "[78]\tvalid_0's rmse: 0.376984\n",
      "[79]\tvalid_0's rmse: 0.376581\n",
      "[80]\tvalid_0's rmse: 0.376647\n",
      "[81]\tvalid_0's rmse: 0.3763\n",
      "[82]\tvalid_0's rmse: 0.376763\n",
      "[83]\tvalid_0's rmse: 0.376691\n",
      "[84]\tvalid_0's rmse: 0.376473\n",
      "[85]\tvalid_0's rmse: 0.376737\n",
      "[86]\tvalid_0's rmse: 0.376479\n",
      "[87]\tvalid_0's rmse: 0.376541\n",
      "[88]\tvalid_0's rmse: 0.376312\n",
      "[89]\tvalid_0's rmse: 0.376343\n",
      "[90]\tvalid_0's rmse: 0.376302\n",
      "[91]\tvalid_0's rmse: 0.376308\n",
      "[92]\tvalid_0's rmse: 0.376352\n",
      "[93]\tvalid_0's rmse: 0.376376\n",
      "[94]\tvalid_0's rmse: 0.37647\n",
      "[95]\tvalid_0's rmse: 0.376745\n",
      "[96]\tvalid_0's rmse: 0.376768\n",
      "[97]\tvalid_0's rmse: 0.377005\n",
      "[98]\tvalid_0's rmse: 0.377362\n",
      "[99]\tvalid_0's rmse: 0.377954\n",
      "[100]\tvalid_0's rmse: 0.378226\n"
     ]
    }
   ],
   "source": [
    "# モデルのインスタンス化\n",
    "model = Model(params=OmegaConf.to_container(cfg['model']))\n",
    "\n",
    "# 前処理\n",
    "model.preprocessing(X, y)\n",
    "\n",
    "# モデルの学習\n",
    "model.train()\n",
    "\n",
    "# 予測\n",
    "y_pred = model.predict(X)"
   ]
  },
  {
   "cell_type": "code",
   "execution_count": 9,
   "metadata": {},
   "outputs": [],
   "source": [
    "# calc score\n",
    "score = r2_score(y, y_pred)\n",
    "\n",
    "# save log\n",
    "experiment.log_metric('r2-score', score)"
   ]
  },
  {
   "cell_type": "markdown",
   "metadata": {},
   "source": [
    "## アーティファクトの保存"
   ]
  },
  {
   "cell_type": "code",
   "execution_count": 10,
   "metadata": {},
   "outputs": [],
   "source": [
    "experiment.log_text(\"thisistest\", \"testname.txt\")"
   ]
  },
  {
   "cell_type": "code",
   "execution_count": 11,
   "metadata": {},
   "outputs": [
    {
     "data": {
      "image/png": "[encoded data removed]",
      "text/plain": [
       "<Figure size 1800x400 with 4 Axes>"
      ]
     },
     "metadata": {},
     "output_type": "display_data"
    }
   ],
   "source": [
    "# グラフ用のfig, axesを作成\n",
    "fig, axes = plt.subplots(1, 4, figsize=(18, 4))\n",
    "\n",
    "# 次数を変えてスコアを評価\n",
    "# グラフをArtifactとして保存\n",
    "fig.suptitle('Dataset', size=16)\n",
    "experiment.log_image(fig, 'test.png')"
   ]
  },
  {
   "cell_type": "markdown",
   "metadata": {},
   "source": [
    "## 実験の完了"
   ]
  },
  {
   "cell_type": "code",
   "execution_count": 12,
   "metadata": {},
   "outputs": [],
   "source": [
    "experiment.terminate_experiment()"
   ]
  }
 ],
 "metadata": {
  "kernelspec": {
   "display_name": "mlops",
   "language": "python",
   "name": "python3"
  },
  "language_info": {
   "codemirror_mode": {
    "name": "ipython",
    "version": 3
   },
   "file_extension": ".py",
   "mimetype": "text/x-python",
   "name": "python",
   "nbconvert_exporter": "python",
   "pygments_lexer": "ipython3",
   "version": "3.8.13"
  },
  "orig_nbformat": 4,
  "vscode": {
   "interpreter": {
    "hash": "b1c15bb42e7f92a2dc30adb20ea9c1af66416b39180bddd707fcabc3fb8421a9"
   }
  }
 },
 "nbformat": 4,
 "nbformat_minor": 2
}
