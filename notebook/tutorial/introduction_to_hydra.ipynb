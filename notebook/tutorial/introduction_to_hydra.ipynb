{
 "cells": [
  {
   "cell_type": "markdown",
   "metadata": {},
   "source": [
    "## パラメーター管理方法\n",
    "\n",
    "Hydraを使ってハイパーパラメータの管理方法を確認する。\n",
    "\n",
    "* 参考：\n",
    "  * [Hydraを用いたPython・機械学習のパラメータ管理方法](https://zenn.dev/kwashizzz/articles/ml-hydra-param)"
   ]
  },
  {
   "cell_type": "code",
   "execution_count": 22,
   "metadata": {},
   "outputs": [],
   "source": [
    "import os\n",
    "import seaborn as sns\n",
    "import sys\n",
    "import pandas as pd\n",
    "from hydra import compose, initialize\n",
    "from omegaconf import DictConfig, ListConfig, OmegaConf\n",
    "from sklearn.model_selection import train_test_split\n",
    "\n",
    "\n",
    "# モデルのモジュールのインポート\n",
    "sys.path.append('../../')\n",
    "sys.dont_write_bytecode = True\n",
    "from src.train.lightGBM.model import Model\n"
   ]
  },
  {
   "cell_type": "markdown",
   "metadata": {},
   "source": [
    "## 設定ファイルの読み込み\n",
    "\n",
    "hydraでは、設定ファイル(.yaml形式)をnotebook上で読み込むためには\"initialize\"を利用する必要がある。"
   ]
  },
  {
   "cell_type": "code",
   "execution_count": 23,
   "metadata": {},
   "outputs": [],
   "source": [
    "with initialize(version_base=None,config_path='../../config', job_name=\"test\"):\n",
    "    # dictinary形式での出力\n",
    "    cfg = compose(config_name=\"train\")"
   ]
  },
  {
   "cell_type": "code",
   "execution_count": 24,
   "metadata": {},
   "outputs": [
    {
     "data": {
      "text/plain": [
       "{'params': {'objective': 'regression', \"metric'\": 'rmse', 'num_leaves': 100, 'max_depth': 10, 'feature_fraction': 0.8, 'subsample_freq': 1, 'bagging_fraction': 0.95, 'learning_rate': 0.1, 'boosting': 'gbdt', 'lambda_l1': 0.1, 'lambda_l2': 10, 'random_state': 42, 'verbosity': -1}}"
      ]
     },
     "execution_count": 24,
     "metadata": {},
     "output_type": "execute_result"
    }
   ],
   "source": [
    "cfg['model']"
   ]
  },
  {
   "cell_type": "markdown",
   "metadata": {},
   "source": [
    "## 学習用のデータの作成"
   ]
  },
  {
   "cell_type": "code",
   "execution_count": 25,
   "metadata": {},
   "outputs": [],
   "source": [
    "# データの抽出\n",
    "df = sns.load_dataset('titanic')\n",
    "\n",
    "# 説明変数の指定\n",
    "X = pd.get_dummies(\n",
    "    df.loc[:, (df.columns!='survived') & (df.columns!='alive')], \n",
    "    drop_first=True\n",
    "    )\n",
    "y = df['survived']"
   ]
  },
  {
   "cell_type": "code",
   "execution_count": 30,
   "metadata": {},
   "outputs": [
    {
     "name": "stdout",
     "output_type": "stream",
     "text": [
      "[1]\tvalid_0's rmse: 0.471568\n",
      "[2]\tvalid_0's rmse: 0.452985\n",
      "[3]\tvalid_0's rmse: 0.436971\n",
      "[4]\tvalid_0's rmse: 0.425039\n",
      "[5]\tvalid_0's rmse: 0.412421\n",
      "[6]\tvalid_0's rmse: 0.403422\n",
      "[7]\tvalid_0's rmse: 0.39577\n",
      "[8]\tvalid_0's rmse: 0.38823\n",
      "[9]\tvalid_0's rmse: 0.383366\n",
      "[10]\tvalid_0's rmse: 0.378937\n",
      "[11]\tvalid_0's rmse: 0.375149\n",
      "[12]\tvalid_0's rmse: 0.371092\n",
      "[13]\tvalid_0's rmse: 0.368492\n",
      "[14]\tvalid_0's rmse: 0.36584\n",
      "[15]\tvalid_0's rmse: 0.363963\n",
      "[16]\tvalid_0's rmse: 0.362676\n",
      "[17]\tvalid_0's rmse: 0.360535\n",
      "[18]\tvalid_0's rmse: 0.359405\n",
      "[19]\tvalid_0's rmse: 0.358393\n",
      "[20]\tvalid_0's rmse: 0.357472\n",
      "[21]\tvalid_0's rmse: 0.357059\n",
      "[22]\tvalid_0's rmse: 0.356041\n",
      "[23]\tvalid_0's rmse: 0.355005\n",
      "[24]\tvalid_0's rmse: 0.355156\n",
      "[25]\tvalid_0's rmse: 0.354678\n",
      "[26]\tvalid_0's rmse: 0.354073\n",
      "[27]\tvalid_0's rmse: 0.353313\n",
      "[28]\tvalid_0's rmse: 0.352416\n",
      "[29]\tvalid_0's rmse: 0.352023\n",
      "[30]\tvalid_0's rmse: 0.351048\n",
      "[31]\tvalid_0's rmse: 0.35183\n",
      "[32]\tvalid_0's rmse: 0.351163\n",
      "[33]\tvalid_0's rmse: 0.351447\n",
      "[34]\tvalid_0's rmse: 0.351282\n",
      "[35]\tvalid_0's rmse: 0.350787\n",
      "[36]\tvalid_0's rmse: 0.350209\n",
      "[37]\tvalid_0's rmse: 0.349506\n",
      "[38]\tvalid_0's rmse: 0.349578\n",
      "[39]\tvalid_0's rmse: 0.349966\n",
      "[40]\tvalid_0's rmse: 0.349711\n",
      "[41]\tvalid_0's rmse: 0.349321\n",
      "[42]\tvalid_0's rmse: 0.348843\n",
      "[43]\tvalid_0's rmse: 0.348594\n",
      "[44]\tvalid_0's rmse: 0.348578\n",
      "[45]\tvalid_0's rmse: 0.348823\n",
      "[46]\tvalid_0's rmse: 0.34929\n",
      "[47]\tvalid_0's rmse: 0.349259\n",
      "[48]\tvalid_0's rmse: 0.349737\n",
      "[49]\tvalid_0's rmse: 0.349716\n",
      "[50]\tvalid_0's rmse: 0.349829\n",
      "[51]\tvalid_0's rmse: 0.349528\n",
      "[52]\tvalid_0's rmse: 0.34937\n",
      "[53]\tvalid_0's rmse: 0.349352\n",
      "[54]\tvalid_0's rmse: 0.349566\n",
      "[55]\tvalid_0's rmse: 0.349207\n",
      "[56]\tvalid_0's rmse: 0.34931\n",
      "[57]\tvalid_0's rmse: 0.349117\n",
      "[58]\tvalid_0's rmse: 0.349459\n",
      "[59]\tvalid_0's rmse: 0.349771\n",
      "[60]\tvalid_0's rmse: 0.350013\n",
      "[61]\tvalid_0's rmse: 0.349442\n",
      "[62]\tvalid_0's rmse: 0.350197\n",
      "[63]\tvalid_0's rmse: 0.350371\n",
      "[64]\tvalid_0's rmse: 0.35046\n",
      "[65]\tvalid_0's rmse: 0.350473\n",
      "[66]\tvalid_0's rmse: 0.350557\n",
      "[67]\tvalid_0's rmse: 0.350907\n",
      "[68]\tvalid_0's rmse: 0.351375\n",
      "[69]\tvalid_0's rmse: 0.351539\n",
      "[70]\tvalid_0's rmse: 0.351733\n",
      "[71]\tvalid_0's rmse: 0.352078\n",
      "[72]\tvalid_0's rmse: 0.352753\n",
      "[73]\tvalid_0's rmse: 0.352383\n",
      "[74]\tvalid_0's rmse: 0.352344\n",
      "[75]\tvalid_0's rmse: 0.352513\n",
      "[76]\tvalid_0's rmse: 0.352164\n",
      "[77]\tvalid_0's rmse: 0.35203\n",
      "[78]\tvalid_0's rmse: 0.352089\n",
      "[79]\tvalid_0's rmse: 0.35153\n",
      "[80]\tvalid_0's rmse: 0.351315\n",
      "[81]\tvalid_0's rmse: 0.350966\n",
      "[82]\tvalid_0's rmse: 0.350761\n",
      "[83]\tvalid_0's rmse: 0.350747\n",
      "[84]\tvalid_0's rmse: 0.350372\n",
      "[85]\tvalid_0's rmse: 0.350521\n",
      "[86]\tvalid_0's rmse: 0.350861\n",
      "[87]\tvalid_0's rmse: 0.350627\n",
      "[88]\tvalid_0's rmse: 0.35062\n",
      "[89]\tvalid_0's rmse: 0.350777\n",
      "[90]\tvalid_0's rmse: 0.350608\n",
      "[91]\tvalid_0's rmse: 0.349961\n",
      "[92]\tvalid_0's rmse: 0.350122\n",
      "[93]\tvalid_0's rmse: 0.349996\n",
      "[94]\tvalid_0's rmse: 0.349754\n",
      "[95]\tvalid_0's rmse: 0.349722\n",
      "[96]\tvalid_0's rmse: 0.35019\n",
      "[97]\tvalid_0's rmse: 0.35039\n",
      "[98]\tvalid_0's rmse: 0.350489\n",
      "[99]\tvalid_0's rmse: 0.350808\n",
      "[100]\tvalid_0's rmse: 0.35082\n"
     ]
    }
   ],
   "source": [
    "# モデルのインスタンス化\n",
    "model = Model(params=OmegaConf.to_container(cfg['model']))\n",
    "\n",
    "# 前処理\n",
    "model.preprocessing(X, y)\n",
    "\n",
    "# モデルの学習\n",
    "model.train()\n",
    "\n",
    "# 予測\n",
    "model.predict(X)"
   ]
  }
 ],
 "metadata": {
  "kernelspec": {
   "display_name": "mlops",
   "language": "python",
   "name": "python3"
  },
  "language_info": {
   "codemirror_mode": {
    "name": "ipython",
    "version": 3
   },
   "file_extension": ".py",
   "mimetype": "text/x-python",
   "name": "python",
   "nbconvert_exporter": "python",
   "pygments_lexer": "ipython3",
   "version": "3.8.13 (default, Oct 19 2022, 22:38:03) [MSC v.1916 64 bit (AMD64)]"
  },
  "orig_nbformat": 4,
  "vscode": {
   "interpreter": {
    "hash": "b1c15bb42e7f92a2dc30adb20ea9c1af66416b39180bddd707fcabc3fb8421a9"
   }
  }
 },
 "nbformat": 4,
 "nbformat_minor": 2
}
